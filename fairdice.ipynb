{
 "cells": [
  {
   "cell_type": "code",
   "execution_count": 1,
   "metadata": {},
   "outputs": [],
   "source": [
    "import re\n",
    "from collections import defaultdict\n",
    "import numpy as np\n",
    "import tqdm\n",
    "import math\n",
    "import itertools\n",
    "\n",
    "def count_ordered_selections0(idxseqs):\n",
    "    if len(idxseqs) == 0:\n",
    "        return 1\n",
    "    if len(idxseqs) == 1:\n",
    "        return len(idxseqs[0])\n",
    "    if any(len(i) == 0 for i in idxseqs):\n",
    "        return 0\n",
    "    tot = 0\n",
    "    for na in idxseqs[0]:\n",
    "        idxseqs2 = [i[i>na] for i in idxseqs[1:]]\n",
    "        tot += count_ordered_selections(idxseqs2)\n",
    "    return tot\n",
    "\n",
    "\n",
    "\n",
    "def above(i, na):\n",
    "    while len(i) > 0 and i[0] <= na:\n",
    "        i = i[1:]\n",
    "    return i        \n",
    "\n",
    "def count_ordered_selections1(idxseqs):\n",
    "    if len(idxseqs) == 0:\n",
    "        return 1\n",
    "    if len(idxseqs) == 1:\n",
    "        return len(idxseqs[0])\n",
    "    if any(len(i) == 0 for i in idxseqs):\n",
    "        return 0\n",
    "    tot = 0\n",
    "    for na in idxseqs[0]:\n",
    "        idxseqs2 = [above(i, na) for i in idxseqs[1:]]\n",
    "        tot += count_ordered_selections(idxseqs2)\n",
    "    return tot\n",
    "\n",
    "\n",
    "def count_ordered_selections(idxseqs, poss):\n",
    "    if len(idxseqs) == 0:\n",
    "        return 1\n",
    "    if len(idxseqs) == 1:\n",
    "        return len(idxseqs[0]) - poss[0]\n",
    "    poss = list(poss) \n",
    "    tot = 0\n",
    "    for na in idxseqs[0][poss[0]:]:\n",
    "        for i in range(1, len(poss)):\n",
    "            while poss[i] < len(idxseqs[i]) and idxseqs[i][poss[i]] <= na:\n",
    "                poss[i] += 1\n",
    "            if poss[i] >= len(idxseqs[i]):\n",
    "                return tot\n",
    "        tot += count_ordered_selections(idxseqs[1:], poss[1:])\n",
    "    return tot\n",
    "\n",
    "\n",
    "def check_fair(w):\n",
    "    wa=np.array(list(w))\n",
    "    dice = sorted(set(wa))\n",
    "    indices = {d: np.arange(len(wa))[wa==d] for d in dice}\n",
    "    counts = {}\n",
    "    for perm in itertools.permutations(dice):\n",
    "        idxseqs = [indices[d] for d in perm]\n",
    "        counts[perm] = count_ordered_selections(idxseqs, [0 for i in idxseqs])\n",
    "    return len(set(counts.values())) == 1\n",
    "\n",
    "_REs = {}\n",
    "\n",
    "def restrict_word(word, subset):\n",
    "    if not subset:\n",
    "        return \"\"\n",
    "    if subset not in _REs:\n",
    "        pat = re.compile(f\"[^{subset}]\")\n",
    "        _REs[subset] = pat\n",
    "    else:\n",
    "        pat = _REs[subset]\n",
    "    return pat.sub(\"\", word)\n",
    "\n",
    "class FairDices:\n",
    "    def __init__(self, dice_sizes: dict):\n",
    "        # dice_sizes: {'A': 4, 'B': 6, ...}\n",
    "        self.dice_sizes = dice_sizes\n",
    "        self.dice_names = ''.join(sorted(dice_sizes.keys()))\n",
    "        self.n = len(self.dice_sizes)\n",
    "        self.range = sum(self.dice_sizes.values())\n",
    "        self.words = set()\n",
    "        self.prefixes = set([\"\"])\n",
    "\n",
    "        if self.n == 0:\n",
    "            self.insert(\"\")\n",
    "        if self.n == 1:\n",
    "            self.insert(self.dice_names * self.dice_sizes[self.dice_names])\n",
    "        # otherwise needs compute_from\n",
    "\n",
    "    def compute_from(self, from0: 'FairDices', from1: 'FairDices', check_subdice: tuple=()):\n",
    "        \"Assumes all smaller FairDices are built\"\n",
    "        if self.n < 2:\n",
    "            return\n",
    "        total_throws = np.prod(list(self.dice_sizes.values()))\n",
    "        if total_throws % math.factorial(self.n) != 0:\n",
    "            print(f\"No solution: total number of throw outcomes not divisible by n!={math.factorial(self.n)}\")\n",
    "        outcomes_per_permutation = total_throws // math.factorial(self.n)\n",
    "\n",
    "        bin_index = restrict_word(from0.dice_names, from1.dice_names)\n",
    "        bins0 = defaultdict(list)\n",
    "        for w in from0.words:\n",
    "            bins0[restrict_word(w, bin_index)].append(w)\n",
    "        bins1 = defaultdict(list)\n",
    "        for w in from1.words:\n",
    "            bins1[restrict_word(w, bin_index)].append(w)\n",
    "\n",
    "        allbins = set(bins0.keys()).union(bins1.keys())\n",
    "        bins0sizes = np.array([len(bins0.get(b, ())) for b in allbins])\n",
    "        bins1sizes = np.array([len(bins1.get(b, ())) for b in allbins])\n",
    "\n",
    "        print(f\"Combining {from0.dice_names!r} ({len(from0.words)} words) and {from1.dice_names!r} ({len(from1.words)} words) with {len(bins0)} bins on dices {bin_index!r}\")\n",
    "        qs = [0., 0.01, 0.25, 0.50, 0.75, 0.99, 1.]\n",
    "        print(f\"\"\"Bin size quantiles (min, 1%, 25%, 50%. 75%, 99%, max):\n",
    "    {from0.dice_names!r}: {np.quantile(bins0sizes, qs)}\n",
    "    {from1.dice_names!r}: {np.quantile(bins1sizes, qs)}\n",
    "    product: {np.quantile(bins0sizes * bins1sizes, qs)}\"\"\")\n",
    "        \n",
    "        def matches_subdice(w):\n",
    "            for sd in check_subdice:\n",
    "                if restrict_word(w, sd.dice_names) not in sd.prefixes:\n",
    "                    return False\n",
    "            return True\n",
    "\n",
    "        interleaved = set()\n",
    "        def interleave(done, rem0, rem1):\n",
    "            #print(\" \"*len(done), done, rem0, rem1)\n",
    "            if not matches_subdice(done):\n",
    "                return\n",
    "\n",
    "            if not rem0 and not rem1:\n",
    "                interleaved.add(done)\n",
    "                return\n",
    "\n",
    "            if not rem0:\n",
    "                interleave(done + rem1, \"\", \"\")\n",
    "                return\n",
    "\n",
    "            if not rem1:\n",
    "                interleave(done + rem0, \"\", \"\")\n",
    "                return\n",
    "\n",
    "            if rem0[0] == rem1[0]:\n",
    "                interleave(done + rem0[0], rem0[1:], rem1[1:])\n",
    "                return\n",
    "    \n",
    "            # rem0[0] != rem1[0]\n",
    "            if rem0[0] in bin_index and rem1[0] in bin_index:\n",
    "                assert False\n",
    "            if rem0[0] in bin_index:\n",
    "                interleave(done + rem1[0], rem0, rem1[1:])\n",
    "                return\n",
    "            if rem1[0] in bin_index:\n",
    "                interleave(done + rem0[0], rem0[1:], rem1)\n",
    "                return\n",
    "\n",
    "            interleave(done + rem0[0], rem0[1:], rem1)\n",
    "            interleave(done + rem1[0], rem0, rem1[1:])\n",
    "\n",
    "        tr = tqdm.tqdm(total=np.sum(bins0sizes*bins1sizes), desc=\"interleave\", position=0, leave=True)\n",
    "        for bi in bins0:\n",
    "            for w0 in bins0[bi]:\n",
    "                for w1 in bins1[bi]:\n",
    "                    #l0 = len(interleaved)\n",
    "                    interleave(\"\", w0, w1)\n",
    "                    #tr.write(f\"{w0} {w1} {len(interleaved) - l0}\")\n",
    "                tr.update(len(bins1[bi]))\n",
    "        tr.close()\n",
    "        \n",
    "        print(f\"Found {len(interleaved)} interleaved candidates consistent with subdices {[sd.dice_names for sd in check_subdice]}\")\n",
    "        for w in tqdm.tqdm(interleaved, desc=\"check fairness\", position=0, leave=True):\n",
    "            if check_fair(w):\n",
    "                self.insert(w)\n",
    "        print(f\"Done: {self}\")\n",
    "\n",
    "    def __str__(self):\n",
    "        return f\"FairDices {self.dice_names!r} [{','.join(f'd{self.dice_sizes[d]}' for d in self.dice_names)}], {len(self.words)} words ({len(self.prefixes)} prefixes)\"\n",
    "\n",
    "    def insert(self, s):\n",
    "        if s in self.words:\n",
    "            return\n",
    "        self.words.add(s)\n",
    "        for i in range(len(s)):\n",
    "            self.prefixes.add(s[:i+1])\n",
    "\n",
    "    def relabel_copy(self, letters):\n",
    "        letters = list(letters)\n",
    "        assert sorted(letters) == letters\n",
    "        assert len(letters) == self.n\n",
    "        fd = FairDices({l: self.dice_sizes[d] for l, d in zip(letters, self.dice_names)})\n",
    "        for w in self.words:\n",
    "            wa0 = np.array(list(w))\n",
    "            wa = wa0.copy()\n",
    "            for l, d in zip(letters, self.dice_names):\n",
    "                wa[wa0 == d] = l\n",
    "            fd.insert(''.join(wa))\n",
    "        return fd"
   ]
  },
  {
   "cell_type": "code",
   "execution_count": 2,
   "metadata": {},
   "outputs": [
    {
     "name": "stdout",
     "output_type": "stream",
     "text": [
      "\n",
      "## Combining A + B -> AB (checking ())\n",
      "Combining 'A' (1 words) and 'B' (1 words) with 1 bins on dices ''\n",
      "Bin size quantiles (min, 1%, 25%, 50%. 75%, 99%, max):\n",
      "    'A': [1. 1. 1. 1. 1. 1. 1.]\n",
      "    'B': [1. 1. 1. 1. 1. 1. 1.]\n",
      "    product: [1. 1. 1. 1. 1. 1. 1.]\n"
     ]
    },
    {
     "name": "stderr",
     "output_type": "stream",
     "text": [
      "interleave: 100%|██████████| 1/1 [00:00<00:00, 845.28it/s]\n"
     ]
    },
    {
     "name": "stdout",
     "output_type": "stream",
     "text": [
      "Found 924 interleaved candidates consistent with subdices []\n"
     ]
    },
    {
     "name": "stderr",
     "output_type": "stream",
     "text": [
      "check fairness: 100%|██████████| 924/924 [00:00<00:00, 22000.35it/s]\n"
     ]
    },
    {
     "name": "stdout",
     "output_type": "stream",
     "text": [
      "Done: FairDices 'AB' [d6,d6], 58 words (399 prefixes)\n",
      "\n",
      "## Combining A + D -> AD (checking ())\n",
      "Combining 'A' (1 words) and 'D' (1 words) with 1 bins on dices ''\n",
      "Bin size quantiles (min, 1%, 25%, 50%. 75%, 99%, max):\n",
      "    'A': [1. 1. 1. 1. 1. 1. 1.]\n",
      "    'D': [1. 1. 1. 1. 1. 1. 1.]\n",
      "    product: [1. 1. 1. 1. 1. 1. 1.]\n"
     ]
    },
    {
     "name": "stderr",
     "output_type": "stream",
     "text": [
      "interleave: 100%|██████████| 1/1 [00:00<00:00, 42.16it/s]\n"
     ]
    },
    {
     "name": "stdout",
     "output_type": "stream",
     "text": [
      "Found 18564 interleaved candidates consistent with subdices []\n"
     ]
    },
    {
     "name": "stderr",
     "output_type": "stream",
     "text": [
      "check fairness: 100%|██████████| 18564/18564 [00:00<00:00, 19856.84it/s]\n"
     ]
    },
    {
     "name": "stdout",
     "output_type": "stream",
     "text": [
      "Done: FairDices 'AD' [d6,d12], 676 words (5297 prefixes)\n",
      "\n",
      "## Combining C + D -> CD (checking ())\n",
      "Combining 'C' (1 words) and 'D' (1 words) with 1 bins on dices ''\n",
      "Bin size quantiles (min, 1%, 25%, 50%. 75%, 99%, max):\n",
      "    'C': [1. 1. 1. 1. 1. 1. 1.]\n",
      "    'D': [1. 1. 1. 1. 1. 1. 1.]\n",
      "    product: [1. 1. 1. 1. 1. 1. 1.]\n"
     ]
    },
    {
     "name": "stderr",
     "output_type": "stream",
     "text": [
      "interleave: 100%|██████████| 1/1 [00:03<00:00,  3.21s/it]\n"
     ]
    },
    {
     "name": "stdout",
     "output_type": "stream",
     "text": [
      "Found 2704156 interleaved candidates consistent with subdices []\n"
     ]
    },
    {
     "name": "stderr",
     "output_type": "stream",
     "text": [
      "check fairness: 100%|██████████| 2704156/2704156 [02:31<00:00, 17851.53it/s]\n"
     ]
    },
    {
     "name": "stdout",
     "output_type": "stream",
     "text": [
      "Done: FairDices 'CD' [d12,d12], 61108 words (444655 prefixes)\n",
      "\n",
      "## Combining AB + AC -> ABC (checking ['BC'])\n",
      "Combining 'AB' (58 words) and 'AC' (676 words) with 1 bins on dices 'A'\n",
      "Bin size quantiles (min, 1%, 25%, 50%. 75%, 99%, max):\n",
      "    'AB': [58. 58. 58. 58. 58. 58. 58.]\n",
      "    'AC': [676. 676. 676. 676. 676. 676. 676.]\n",
      "    product: [39208. 39208. 39208. 39208. 39208. 39208. 39208.]\n"
     ]
    },
    {
     "name": "stderr",
     "output_type": "stream",
     "text": [
      "interleave: 100%|██████████| 39208/39208 [00:25<00:00, 1508.66it/s]\n"
     ]
    },
    {
     "name": "stdout",
     "output_type": "stream",
     "text": [
      "Found 789250 interleaved candidates consistent with subdices ['BC']\n"
     ]
    },
    {
     "name": "stderr",
     "output_type": "stream",
     "text": [
      "check fairness: 100%|██████████| 789250/789250 [04:42<00:00, 2794.21it/s]\n"
     ]
    },
    {
     "name": "stdout",
     "output_type": "stream",
     "text": [
      "Done: FairDices 'ABC' [d6,d6,d12], 1480 words (16232 prefixes)\n",
      "\n",
      "## Combining AC + AD -> ACD (checking ['CD'])\n",
      "Combining 'AC' (676 words) and 'AD' (676 words) with 1 bins on dices 'A'\n",
      "Bin size quantiles (min, 1%, 25%, 50%. 75%, 99%, max):\n",
      "    'AC': [676. 676. 676. 676. 676. 676. 676.]\n",
      "    'AD': [676. 676. 676. 676. 676. 676. 676.]\n",
      "    product: [456976. 456976. 456976. 456976. 456976. 456976. 456976.]\n"
     ]
    },
    {
     "name": "stderr",
     "output_type": "stream",
     "text": [
      "interleave: 100%|██████████| 456976/456976 [1:56:42<00:00, 65.26it/s]\n"
     ]
    },
    {
     "name": "stdout",
     "output_type": "stream",
     "text": [
      "Found 205318450 interleaved candidates consistent with subdices ['CD']\n"
     ]
    },
    {
     "name": "stderr",
     "output_type": "stream",
     "text": [
      "check fairness:  25%|██▍       | 50329855/205318450 [7:35:40<23:23:14, 1840.83it/s]\n"
     ]
    },
    {
     "ename": "KeyboardInterrupt",
     "evalue": "",
     "output_type": "error",
     "traceback": [
      "\u001b[0;31m---------------------------------------------------------------------------\u001b[0m",
      "\u001b[0;31mKeyboardInterrupt\u001b[0m                         Traceback (most recent call last)",
      "\u001b[0;32m/tmp/ipykernel_37320/1797795337.py\u001b[0m in \u001b[0;36m<module>\u001b[0;34m\u001b[0m\n\u001b[1;32m     25\u001b[0m \u001b[0;34m\u001b[0m\u001b[0m\n\u001b[1;32m     26\u001b[0m \u001b[0mcombine\u001b[0m\u001b[0;34m(\u001b[0m\u001b[0mDs\u001b[0m\u001b[0;34m,\u001b[0m \u001b[0;34m'AB'\u001b[0m\u001b[0;34m,\u001b[0m \u001b[0;34m'AC'\u001b[0m\u001b[0;34m,\u001b[0m \u001b[0;34m[\u001b[0m\u001b[0;34m'BC'\u001b[0m\u001b[0;34m]\u001b[0m\u001b[0;34m)\u001b[0m\u001b[0;34m\u001b[0m\u001b[0;34m\u001b[0m\u001b[0m\n\u001b[0;32m---> 27\u001b[0;31m \u001b[0mcombine\u001b[0m\u001b[0;34m(\u001b[0m\u001b[0mDs\u001b[0m\u001b[0;34m,\u001b[0m \u001b[0;34m'AC'\u001b[0m\u001b[0;34m,\u001b[0m \u001b[0;34m'AD'\u001b[0m\u001b[0;34m,\u001b[0m \u001b[0;34m[\u001b[0m\u001b[0;34m'CD'\u001b[0m\u001b[0;34m]\u001b[0m\u001b[0;34m)\u001b[0m\u001b[0;34m\u001b[0m\u001b[0;34m\u001b[0m\u001b[0m\n\u001b[0m\u001b[1;32m     28\u001b[0m \u001b[0mrelabel\u001b[0m\u001b[0;34m(\u001b[0m\u001b[0mDs\u001b[0m\u001b[0;34m,\u001b[0m \u001b[0;34m'ABC'\u001b[0m\u001b[0;34m,\u001b[0m \u001b[0;34m'ABD'\u001b[0m\u001b[0;34m)\u001b[0m\u001b[0;34m\u001b[0m\u001b[0;34m\u001b[0m\u001b[0m\n\u001b[1;32m     29\u001b[0m \u001b[0;34m\u001b[0m\u001b[0m\n",
      "\u001b[0;32m/tmp/ipykernel_37320/1797795337.py\u001b[0m in \u001b[0;36mcombine\u001b[0;34m(ds, d1, d2, checks)\u001b[0m\n\u001b[1;32m      5\u001b[0m     \u001b[0mprint\u001b[0m\u001b[0;34m(\u001b[0m\u001b[0;34mf\"\\n## Combining {d1} + {d2} -> {d12} (checking {checks})\"\u001b[0m\u001b[0;34m)\u001b[0m\u001b[0;34m\u001b[0m\u001b[0;34m\u001b[0m\u001b[0m\n\u001b[1;32m      6\u001b[0m     \u001b[0mds\u001b[0m\u001b[0;34m[\u001b[0m\u001b[0md12\u001b[0m\u001b[0;34m]\u001b[0m \u001b[0;34m=\u001b[0m \u001b[0mFairDices\u001b[0m\u001b[0;34m(\u001b[0m\u001b[0;34m{\u001b[0m\u001b[0ml\u001b[0m\u001b[0;34m:\u001b[0m \u001b[0mds\u001b[0m\u001b[0;34m[\u001b[0m\u001b[0ml\u001b[0m\u001b[0;34m]\u001b[0m\u001b[0;34m.\u001b[0m\u001b[0mdice_sizes\u001b[0m\u001b[0;34m[\u001b[0m\u001b[0ml\u001b[0m\u001b[0;34m]\u001b[0m \u001b[0;32mfor\u001b[0m \u001b[0ml\u001b[0m \u001b[0;32min\u001b[0m \u001b[0md12\u001b[0m\u001b[0;34m}\u001b[0m\u001b[0;34m)\u001b[0m\u001b[0;34m\u001b[0m\u001b[0;34m\u001b[0m\u001b[0m\n\u001b[0;32m----> 7\u001b[0;31m     \u001b[0mds\u001b[0m\u001b[0;34m[\u001b[0m\u001b[0md12\u001b[0m\u001b[0;34m]\u001b[0m\u001b[0;34m.\u001b[0m\u001b[0mcompute_from\u001b[0m\u001b[0;34m(\u001b[0m\u001b[0mds\u001b[0m\u001b[0;34m[\u001b[0m\u001b[0md1\u001b[0m\u001b[0;34m]\u001b[0m\u001b[0;34m,\u001b[0m \u001b[0mds\u001b[0m\u001b[0;34m[\u001b[0m\u001b[0md2\u001b[0m\u001b[0;34m]\u001b[0m\u001b[0;34m,\u001b[0m \u001b[0mcheck_subdice\u001b[0m\u001b[0;34m=\u001b[0m\u001b[0;34m[\u001b[0m\u001b[0mds\u001b[0m\u001b[0;34m[\u001b[0m\u001b[0mc\u001b[0m\u001b[0;34m]\u001b[0m \u001b[0;32mfor\u001b[0m \u001b[0mc\u001b[0m \u001b[0;32min\u001b[0m \u001b[0mchecks\u001b[0m\u001b[0;34m]\u001b[0m\u001b[0;34m)\u001b[0m\u001b[0;34m\u001b[0m\u001b[0;34m\u001b[0m\u001b[0m\n\u001b[0m\u001b[1;32m      8\u001b[0m \u001b[0;32mdef\u001b[0m \u001b[0mrelabel\u001b[0m\u001b[0;34m(\u001b[0m\u001b[0mds\u001b[0m\u001b[0;34m,\u001b[0m \u001b[0msrc\u001b[0m\u001b[0;34m,\u001b[0m \u001b[0mtgt\u001b[0m\u001b[0;34m)\u001b[0m\u001b[0;34m:\u001b[0m\u001b[0;34m\u001b[0m\u001b[0;34m\u001b[0m\u001b[0m\n\u001b[1;32m      9\u001b[0m     \u001b[0;32mfor\u001b[0m \u001b[0ml0\u001b[0m\u001b[0;34m,\u001b[0m \u001b[0ml1\u001b[0m \u001b[0;32min\u001b[0m \u001b[0mzip\u001b[0m\u001b[0;34m(\u001b[0m\u001b[0msrc\u001b[0m\u001b[0;34m,\u001b[0m \u001b[0mtgt\u001b[0m\u001b[0;34m)\u001b[0m\u001b[0;34m:\u001b[0m\u001b[0;34m\u001b[0m\u001b[0;34m\u001b[0m\u001b[0m\n",
      "\u001b[0;32m/tmp/ipykernel_37320/360813035.py\u001b[0m in \u001b[0;36mcompute_from\u001b[0;34m(self, from0, from1, check_subdice)\u001b[0m\n\u001b[1;32m    176\u001b[0m         \u001b[0mprint\u001b[0m\u001b[0;34m(\u001b[0m\u001b[0;34mf\"Found {len(interleaved)} interleaved candidates consistent with subdices {[sd.dice_names for sd in check_subdice]}\"\u001b[0m\u001b[0;34m)\u001b[0m\u001b[0;34m\u001b[0m\u001b[0;34m\u001b[0m\u001b[0m\n\u001b[1;32m    177\u001b[0m         \u001b[0;32mfor\u001b[0m \u001b[0mw\u001b[0m \u001b[0;32min\u001b[0m \u001b[0mtqdm\u001b[0m\u001b[0;34m.\u001b[0m\u001b[0mtqdm\u001b[0m\u001b[0;34m(\u001b[0m\u001b[0minterleaved\u001b[0m\u001b[0;34m,\u001b[0m \u001b[0mdesc\u001b[0m\u001b[0;34m=\u001b[0m\u001b[0;34m\"check fairness\"\u001b[0m\u001b[0;34m,\u001b[0m \u001b[0mposition\u001b[0m\u001b[0;34m=\u001b[0m\u001b[0;36m0\u001b[0m\u001b[0;34m,\u001b[0m \u001b[0mleave\u001b[0m\u001b[0;34m=\u001b[0m\u001b[0;32mTrue\u001b[0m\u001b[0;34m)\u001b[0m\u001b[0;34m:\u001b[0m\u001b[0;34m\u001b[0m\u001b[0;34m\u001b[0m\u001b[0m\n\u001b[0;32m--> 178\u001b[0;31m             \u001b[0;32mif\u001b[0m \u001b[0mcheck_fair\u001b[0m\u001b[0;34m(\u001b[0m\u001b[0mw\u001b[0m\u001b[0;34m)\u001b[0m\u001b[0;34m:\u001b[0m\u001b[0;34m\u001b[0m\u001b[0;34m\u001b[0m\u001b[0m\n\u001b[0m\u001b[1;32m    179\u001b[0m                 \u001b[0mself\u001b[0m\u001b[0;34m.\u001b[0m\u001b[0minsert\u001b[0m\u001b[0;34m(\u001b[0m\u001b[0mw\u001b[0m\u001b[0;34m)\u001b[0m\u001b[0;34m\u001b[0m\u001b[0;34m\u001b[0m\u001b[0m\n\u001b[1;32m    180\u001b[0m         \u001b[0mprint\u001b[0m\u001b[0;34m(\u001b[0m\u001b[0;34mf\"Done: {self}\"\u001b[0m\u001b[0;34m)\u001b[0m\u001b[0;34m\u001b[0m\u001b[0;34m\u001b[0m\u001b[0m\n",
      "\u001b[0;32m/tmp/ipykernel_37320/360813035.py\u001b[0m in \u001b[0;36mcheck_fair\u001b[0;34m(w)\u001b[0m\n\u001b[1;32m     64\u001b[0m     \u001b[0;32mfor\u001b[0m \u001b[0mperm\u001b[0m \u001b[0;32min\u001b[0m \u001b[0mitertools\u001b[0m\u001b[0;34m.\u001b[0m\u001b[0mpermutations\u001b[0m\u001b[0;34m(\u001b[0m\u001b[0mdice\u001b[0m\u001b[0;34m)\u001b[0m\u001b[0;34m:\u001b[0m\u001b[0;34m\u001b[0m\u001b[0;34m\u001b[0m\u001b[0m\n\u001b[1;32m     65\u001b[0m         \u001b[0midxseqs\u001b[0m \u001b[0;34m=\u001b[0m \u001b[0;34m[\u001b[0m\u001b[0mindices\u001b[0m\u001b[0;34m[\u001b[0m\u001b[0md\u001b[0m\u001b[0;34m]\u001b[0m \u001b[0;32mfor\u001b[0m \u001b[0md\u001b[0m \u001b[0;32min\u001b[0m \u001b[0mperm\u001b[0m\u001b[0;34m]\u001b[0m\u001b[0;34m\u001b[0m\u001b[0;34m\u001b[0m\u001b[0m\n\u001b[0;32m---> 66\u001b[0;31m         \u001b[0mcounts\u001b[0m\u001b[0;34m[\u001b[0m\u001b[0mperm\u001b[0m\u001b[0;34m]\u001b[0m \u001b[0;34m=\u001b[0m \u001b[0mcount_ordered_selections\u001b[0m\u001b[0;34m(\u001b[0m\u001b[0midxseqs\u001b[0m\u001b[0;34m,\u001b[0m \u001b[0;34m[\u001b[0m\u001b[0;36m0\u001b[0m \u001b[0;32mfor\u001b[0m \u001b[0mi\u001b[0m \u001b[0;32min\u001b[0m \u001b[0midxseqs\u001b[0m\u001b[0;34m]\u001b[0m\u001b[0;34m)\u001b[0m\u001b[0;34m\u001b[0m\u001b[0;34m\u001b[0m\u001b[0m\n\u001b[0m\u001b[1;32m     67\u001b[0m     \u001b[0;32mreturn\u001b[0m \u001b[0mlen\u001b[0m\u001b[0;34m(\u001b[0m\u001b[0mset\u001b[0m\u001b[0;34m(\u001b[0m\u001b[0mcounts\u001b[0m\u001b[0;34m.\u001b[0m\u001b[0mvalues\u001b[0m\u001b[0;34m(\u001b[0m\u001b[0;34m)\u001b[0m\u001b[0;34m)\u001b[0m\u001b[0;34m)\u001b[0m \u001b[0;34m==\u001b[0m \u001b[0;36m1\u001b[0m\u001b[0;34m\u001b[0m\u001b[0;34m\u001b[0m\u001b[0m\n\u001b[1;32m     68\u001b[0m \u001b[0;34m\u001b[0m\u001b[0m\n",
      "\u001b[0;32m/tmp/ipykernel_37320/360813035.py\u001b[0m in \u001b[0;36mcount_ordered_selections\u001b[0;34m(idxseqs, poss)\u001b[0m\n\u001b[1;32m     53\u001b[0m             \u001b[0;32mif\u001b[0m \u001b[0mposs\u001b[0m\u001b[0;34m[\u001b[0m\u001b[0mi\u001b[0m\u001b[0;34m]\u001b[0m \u001b[0;34m>=\u001b[0m \u001b[0mlen\u001b[0m\u001b[0;34m(\u001b[0m\u001b[0midxseqs\u001b[0m\u001b[0;34m[\u001b[0m\u001b[0mi\u001b[0m\u001b[0;34m]\u001b[0m\u001b[0;34m)\u001b[0m\u001b[0;34m:\u001b[0m\u001b[0;34m\u001b[0m\u001b[0;34m\u001b[0m\u001b[0m\n\u001b[1;32m     54\u001b[0m                 \u001b[0;32mreturn\u001b[0m \u001b[0mtot\u001b[0m\u001b[0;34m\u001b[0m\u001b[0;34m\u001b[0m\u001b[0m\n\u001b[0;32m---> 55\u001b[0;31m         \u001b[0mtot\u001b[0m \u001b[0;34m+=\u001b[0m \u001b[0mcount_ordered_selections\u001b[0m\u001b[0;34m(\u001b[0m\u001b[0midxseqs\u001b[0m\u001b[0;34m[\u001b[0m\u001b[0;36m1\u001b[0m\u001b[0;34m:\u001b[0m\u001b[0;34m]\u001b[0m\u001b[0;34m,\u001b[0m \u001b[0mposs\u001b[0m\u001b[0;34m[\u001b[0m\u001b[0;36m1\u001b[0m\u001b[0;34m:\u001b[0m\u001b[0;34m]\u001b[0m\u001b[0;34m)\u001b[0m\u001b[0;34m\u001b[0m\u001b[0;34m\u001b[0m\u001b[0m\n\u001b[0m\u001b[1;32m     56\u001b[0m     \u001b[0;32mreturn\u001b[0m \u001b[0mtot\u001b[0m\u001b[0;34m\u001b[0m\u001b[0;34m\u001b[0m\u001b[0m\n\u001b[1;32m     57\u001b[0m \u001b[0;34m\u001b[0m\u001b[0m\n",
      "\u001b[0;32m/tmp/ipykernel_37320/360813035.py\u001b[0m in \u001b[0;36mcount_ordered_selections\u001b[0;34m(idxseqs, poss)\u001b[0m\n\u001b[1;32m     47\u001b[0m     \u001b[0mposs\u001b[0m \u001b[0;34m=\u001b[0m \u001b[0mlist\u001b[0m\u001b[0;34m(\u001b[0m\u001b[0mposs\u001b[0m\u001b[0;34m)\u001b[0m\u001b[0;34m\u001b[0m\u001b[0;34m\u001b[0m\u001b[0m\n\u001b[1;32m     48\u001b[0m     \u001b[0mtot\u001b[0m \u001b[0;34m=\u001b[0m \u001b[0;36m0\u001b[0m\u001b[0;34m\u001b[0m\u001b[0;34m\u001b[0m\u001b[0m\n\u001b[0;32m---> 49\u001b[0;31m     \u001b[0;32mfor\u001b[0m \u001b[0mna\u001b[0m \u001b[0;32min\u001b[0m \u001b[0midxseqs\u001b[0m\u001b[0;34m[\u001b[0m\u001b[0;36m0\u001b[0m\u001b[0;34m]\u001b[0m\u001b[0;34m[\u001b[0m\u001b[0mposs\u001b[0m\u001b[0;34m[\u001b[0m\u001b[0;36m0\u001b[0m\u001b[0;34m]\u001b[0m\u001b[0;34m:\u001b[0m\u001b[0;34m]\u001b[0m\u001b[0;34m:\u001b[0m\u001b[0;34m\u001b[0m\u001b[0;34m\u001b[0m\u001b[0m\n\u001b[0m\u001b[1;32m     50\u001b[0m         \u001b[0;32mfor\u001b[0m \u001b[0mi\u001b[0m \u001b[0;32min\u001b[0m \u001b[0mrange\u001b[0m\u001b[0;34m(\u001b[0m\u001b[0;36m1\u001b[0m\u001b[0;34m,\u001b[0m \u001b[0mlen\u001b[0m\u001b[0;34m(\u001b[0m\u001b[0mposs\u001b[0m\u001b[0;34m)\u001b[0m\u001b[0;34m)\u001b[0m\u001b[0;34m:\u001b[0m\u001b[0;34m\u001b[0m\u001b[0;34m\u001b[0m\u001b[0m\n\u001b[1;32m     51\u001b[0m             \u001b[0;32mwhile\u001b[0m \u001b[0mposs\u001b[0m\u001b[0;34m[\u001b[0m\u001b[0mi\u001b[0m\u001b[0;34m]\u001b[0m \u001b[0;34m<\u001b[0m \u001b[0mlen\u001b[0m\u001b[0;34m(\u001b[0m\u001b[0midxseqs\u001b[0m\u001b[0;34m[\u001b[0m\u001b[0mi\u001b[0m\u001b[0;34m]\u001b[0m\u001b[0;34m)\u001b[0m \u001b[0;32mand\u001b[0m \u001b[0midxseqs\u001b[0m\u001b[0;34m[\u001b[0m\u001b[0mi\u001b[0m\u001b[0;34m]\u001b[0m\u001b[0;34m[\u001b[0m\u001b[0mposs\u001b[0m\u001b[0;34m[\u001b[0m\u001b[0mi\u001b[0m\u001b[0;34m]\u001b[0m\u001b[0;34m]\u001b[0m \u001b[0;34m<=\u001b[0m \u001b[0mna\u001b[0m\u001b[0;34m:\u001b[0m\u001b[0;34m\u001b[0m\u001b[0;34m\u001b[0m\u001b[0m\n",
      "\u001b[0;31mKeyboardInterrupt\u001b[0m: "
     ]
    }
   ],
   "source": [
    "def new_dice(ds, l, sides):\n",
    "    ds[l] = FairDices({l: sides})\n",
    "def combine(ds, d1, d2, checks=()):\n",
    "    d12 = ''.join(sorted(set(d1).union(d2)))\n",
    "    print(f\"\\n## Combining {d1} + {d2} -> {d12} (checking {checks})\")\n",
    "    ds[d12] = FairDices({l: ds[l].dice_sizes[l] for l in d12})\n",
    "    ds[d12].compute_from(ds[d1], ds[d2], check_subdice=[ds[c] for c in checks])\n",
    "def relabel(ds, src, tgt):\n",
    "    for l0, l1 in zip(src, tgt):\n",
    "        assert ds[l0].dice_sizes[l0] == ds[l1].dice_sizes[l1]\n",
    "    ds[tgt] = ds[src].relabel_copy(tgt)\n",
    "\n",
    "Ds = {}\n",
    "new_dice(Ds, 'A', 6)\n",
    "new_dice(Ds, 'B', 6)\n",
    "new_dice(Ds, 'C', 12)\n",
    "new_dice(Ds, 'D', 12)\n",
    "\n",
    "combine(Ds, 'A', 'B')\n",
    "combine(Ds, 'A', 'D')\n",
    "combine(Ds, 'C', 'D')\n",
    "relabel(Ds, 'AD', 'AC')\n",
    "relabel(Ds, 'AD', 'BC')\n",
    "relabel(Ds, 'AD', 'BD')\n",
    "\n",
    "combine(Ds, 'AB', 'AC', ['BC'])\n",
    "combine(Ds, 'AC', 'AD', ['CD'])\n",
    "relabel(Ds, 'ABC', 'ABD')\n",
    "\n",
    "combine(Ds, 'ABC', 'ABD', ['ACD'])"
   ]
  }
 ],
 "metadata": {
  "kernelspec": {
   "display_name": "Python 3.9.5 64-bit",
   "language": "python",
   "name": "python3"
  },
  "language_info": {
   "codemirror_mode": {
    "name": "ipython",
    "version": 3
   },
   "file_extension": ".py",
   "mimetype": "text/x-python",
   "name": "python",
   "nbconvert_exporter": "python",
   "pygments_lexer": "ipython3",
   "version": "3.9.5"
  },
  "orig_nbformat": 4,
  "vscode": {
   "interpreter": {
    "hash": "767d51c1340bd893661ea55ea3124f6de3c7a262a8b4abca0554b478b1e2ff90"
   }
  }
 },
 "nbformat": 4,
 "nbformat_minor": 2
}
